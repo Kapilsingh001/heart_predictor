{
 "cells": [
  {
   "metadata": {
    "ExecuteTime": {
     "end_time": "2025-07-24T13:40:20.180355Z",
     "start_time": "2025-07-24T13:40:20.133537Z"
    }
   },
   "cell_type": "code",
   "source": [
    "# My First Machine Learning Project: Heart Disease Prediction\n",
    "### Exploring Data, Building a Model, and Evaluating Performance\n"
   ],
   "id": "28eb1c6d953e2442",
   "outputs": [],
   "execution_count": 1
  },
  {
   "cell_type": "markdown",
   "id": "8bceaa35",
   "metadata": {},
   "source": [
    "##  Exploring the Data \n",
    "\n",
    "In this section, we take a closer look at the dataset — its structure, missing values, feature types, and correlations. This helps us understand the data before building a model.\n"
   ]
  },
  {
   "cell_type": "markdown",
   "id": "ffbd3e31",
   "metadata": {},
   "source": [
    " # 1. Import Required Libraries\n",
    "These are the core libraries needed for data loading, analysis, and visualization."
   ]
  },
  {
   "cell_type": "code",
   "id": "b104cd1a",
   "metadata": {
    "ExecuteTime": {
     "end_time": "2025-07-24T13:40:21.406988Z",
     "start_time": "2025-07-24T13:40:21.038776Z"
    }
   },
   "source": [
    "import pandas as pd\n",
    "import numpy as np\n",
    "import matplotlib.pyplot as plt\n",
    "import seaborn as sns\n",
    "%matplotlib inline\n",
    "\n"
   ],
   "outputs": [],
   "execution_count": 2
  },
  {
   "cell_type": "markdown",
   "id": "4fc09999",
   "metadata": {},
   "source": [
    " # 2. Load and Preview the Dataset\n",
    "Load your dataset and check its structure, types, and basic statistics."
   ]
  },
  {
   "cell_type": "code",
   "id": "ccd8599c",
   "metadata": {
    "ExecuteTime": {
     "end_time": "2025-07-24T13:40:22.496905Z",
     "start_time": "2025-07-24T13:40:21.575756Z"
    }
   },
   "source": [
    "# Load the dataset \n",
    "df = pd.read_csv(\"cleaned_merged_heart_dataset.csv\")\n",
    "\n",
    "# View first 5 rows\n",
    "df.head()\n"
   ],
   "outputs": [
    {
     "data": {
      "text/plain": [
       "   age  sex  cp  trestbps  chol  fbs  restecg  thalachh  exang  oldpeak  \\\n",
       "0   63    1   3       145   233    1        0       150      0      2.3   \n",
       "1   37    1   2       130   250    0        1       187      0      3.5   \n",
       "2   41    0   1       130   204    0        0       172      0      1.4   \n",
       "3   56    1   1       120   236    0        1       178      0      0.8   \n",
       "4   57    0   0       120   354    0        1       163      1      0.6   \n",
       "\n",
       "   slope  ca  thal  target  \n",
       "0      0   0     1       1  \n",
       "1      0   0     2       1  \n",
       "2      2   0     2       1  \n",
       "3      2   0     2       1  \n",
       "4      2   0     2       1  "
      ],
      "text/html": [
       "<div>\n",
       "<style scoped>\n",
       "    .dataframe tbody tr th:only-of-type {\n",
       "        vertical-align: middle;\n",
       "    }\n",
       "\n",
       "    .dataframe tbody tr th {\n",
       "        vertical-align: top;\n",
       "    }\n",
       "\n",
       "    .dataframe thead th {\n",
       "        text-align: right;\n",
       "    }\n",
       "</style>\n",
       "<table border=\"1\" class=\"dataframe\">\n",
       "  <thead>\n",
       "    <tr style=\"text-align: right;\">\n",
       "      <th></th>\n",
       "      <th>age</th>\n",
       "      <th>sex</th>\n",
       "      <th>cp</th>\n",
       "      <th>trestbps</th>\n",
       "      <th>chol</th>\n",
       "      <th>fbs</th>\n",
       "      <th>restecg</th>\n",
       "      <th>thalachh</th>\n",
       "      <th>exang</th>\n",
       "      <th>oldpeak</th>\n",
       "      <th>slope</th>\n",
       "      <th>ca</th>\n",
       "      <th>thal</th>\n",
       "      <th>target</th>\n",
       "    </tr>\n",
       "  </thead>\n",
       "  <tbody>\n",
       "    <tr>\n",
       "      <th>0</th>\n",
       "      <td>63</td>\n",
       "      <td>1</td>\n",
       "      <td>3</td>\n",
       "      <td>145</td>\n",
       "      <td>233</td>\n",
       "      <td>1</td>\n",
       "      <td>0</td>\n",
       "      <td>150</td>\n",
       "      <td>0</td>\n",
       "      <td>2.3</td>\n",
       "      <td>0</td>\n",
       "      <td>0</td>\n",
       "      <td>1</td>\n",
       "      <td>1</td>\n",
       "    </tr>\n",
       "    <tr>\n",
       "      <th>1</th>\n",
       "      <td>37</td>\n",
       "      <td>1</td>\n",
       "      <td>2</td>\n",
       "      <td>130</td>\n",
       "      <td>250</td>\n",
       "      <td>0</td>\n",
       "      <td>1</td>\n",
       "      <td>187</td>\n",
       "      <td>0</td>\n",
       "      <td>3.5</td>\n",
       "      <td>0</td>\n",
       "      <td>0</td>\n",
       "      <td>2</td>\n",
       "      <td>1</td>\n",
       "    </tr>\n",
       "    <tr>\n",
       "      <th>2</th>\n",
       "      <td>41</td>\n",
       "      <td>0</td>\n",
       "      <td>1</td>\n",
       "      <td>130</td>\n",
       "      <td>204</td>\n",
       "      <td>0</td>\n",
       "      <td>0</td>\n",
       "      <td>172</td>\n",
       "      <td>0</td>\n",
       "      <td>1.4</td>\n",
       "      <td>2</td>\n",
       "      <td>0</td>\n",
       "      <td>2</td>\n",
       "      <td>1</td>\n",
       "    </tr>\n",
       "    <tr>\n",
       "      <th>3</th>\n",
       "      <td>56</td>\n",
       "      <td>1</td>\n",
       "      <td>1</td>\n",
       "      <td>120</td>\n",
       "      <td>236</td>\n",
       "      <td>0</td>\n",
       "      <td>1</td>\n",
       "      <td>178</td>\n",
       "      <td>0</td>\n",
       "      <td>0.8</td>\n",
       "      <td>2</td>\n",
       "      <td>0</td>\n",
       "      <td>2</td>\n",
       "      <td>1</td>\n",
       "    </tr>\n",
       "    <tr>\n",
       "      <th>4</th>\n",
       "      <td>57</td>\n",
       "      <td>0</td>\n",
       "      <td>0</td>\n",
       "      <td>120</td>\n",
       "      <td>354</td>\n",
       "      <td>0</td>\n",
       "      <td>1</td>\n",
       "      <td>163</td>\n",
       "      <td>1</td>\n",
       "      <td>0.6</td>\n",
       "      <td>2</td>\n",
       "      <td>0</td>\n",
       "      <td>2</td>\n",
       "      <td>1</td>\n",
       "    </tr>\n",
       "  </tbody>\n",
       "</table>\n",
       "</div>"
      ]
     },
     "execution_count": 3,
     "metadata": {},
     "output_type": "execute_result"
    }
   ],
   "execution_count": 3
  },
  {
   "cell_type": "code",
   "id": "b1e1c047",
   "metadata": {
    "ExecuteTime": {
     "end_time": "2025-07-24T13:40:30.612037Z",
     "start_time": "2025-07-24T13:40:30.497843Z"
    }
   },
   "source": [
    "# Shape of the dataset\n",
    "print(\"Dataset shape:\", df.shape)\n",
    "\n",
    "# Column info (data types, nulls)\n",
    "df.info()\n"
   ],
   "outputs": [
    {
     "name": "stdout",
     "output_type": "stream",
     "text": [
      "Dataset shape: (1888, 14)\n",
      "<class 'pandas.core.frame.DataFrame'>\n",
      "RangeIndex: 1888 entries, 0 to 1887\n",
      "Data columns (total 14 columns):\n",
      " #   Column    Non-Null Count  Dtype  \n",
      "---  ------    --------------  -----  \n",
      " 0   age       1888 non-null   int64  \n",
      " 1   sex       1888 non-null   int64  \n",
      " 2   cp        1888 non-null   int64  \n",
      " 3   trestbps  1888 non-null   int64  \n",
      " 4   chol      1888 non-null   int64  \n",
      " 5   fbs       1888 non-null   int64  \n",
      " 6   restecg   1888 non-null   int64  \n",
      " 7   thalachh  1888 non-null   int64  \n",
      " 8   exang     1888 non-null   int64  \n",
      " 9   oldpeak   1888 non-null   float64\n",
      " 10  slope     1888 non-null   int64  \n",
      " 11  ca        1888 non-null   int64  \n",
      " 12  thal      1888 non-null   int64  \n",
      " 13  target    1888 non-null   int64  \n",
      "dtypes: float64(1), int64(13)\n",
      "memory usage: 206.6 KB\n"
     ]
    }
   ],
   "execution_count": 4
  },
  {
   "cell_type": "code",
   "id": "07cb62e3",
   "metadata": {
    "ExecuteTime": {
     "end_time": "2025-07-24T13:40:30.928798Z",
     "start_time": "2025-07-24T13:40:30.732016Z"
    }
   },
   "source": [
    "# Summary statistics for numerical features\n",
    "df.describe().round(2)\n"
   ],
   "outputs": [
    {
     "data": {
      "text/plain": [
       "           age      sex       cp  trestbps     chol      fbs  restecg  \\\n",
       "count  1888.00  1888.00  1888.00   1888.00  1888.00  1888.00  1888.00   \n",
       "mean     54.35     0.69     1.28    131.55   246.86     0.15     0.60   \n",
       "std       9.08     0.46     1.28     17.56    51.61     0.36     0.64   \n",
       "min      29.00     0.00     0.00     94.00   126.00     0.00     0.00   \n",
       "25%      47.75     0.00     0.00    120.00   211.00     0.00     0.00   \n",
       "50%      55.00     1.00     1.00    130.00   241.00     0.00     1.00   \n",
       "75%      61.00     1.00     2.00    140.00   276.00     0.00     1.00   \n",
       "max      77.00     1.00     4.00    200.00   564.00     1.00     2.00   \n",
       "\n",
       "       thalachh    exang  oldpeak    slope       ca     thal   target  \n",
       "count   1888.00  1888.00  1888.00  1888.00  1888.00  1888.00  1888.00  \n",
       "mean     149.42     0.33     1.05     1.42     0.73     2.66     0.52  \n",
       "std       23.01     0.47     1.16     0.62     1.02     1.25     0.50  \n",
       "min       71.00     0.00     0.00     0.00     0.00     0.00     0.00  \n",
       "25%      133.00     0.00     0.00     1.00     0.00     2.00     0.00  \n",
       "50%      152.00     0.00     0.80     1.00     0.00     2.00     1.00  \n",
       "75%      166.00     1.00     1.60     2.00     1.00     3.00     1.00  \n",
       "max      202.00     1.00     6.20     3.00     4.00     7.00     1.00  "
      ],
      "text/html": [
       "<div>\n",
       "<style scoped>\n",
       "    .dataframe tbody tr th:only-of-type {\n",
       "        vertical-align: middle;\n",
       "    }\n",
       "\n",
       "    .dataframe tbody tr th {\n",
       "        vertical-align: top;\n",
       "    }\n",
       "\n",
       "    .dataframe thead th {\n",
       "        text-align: right;\n",
       "    }\n",
       "</style>\n",
       "<table border=\"1\" class=\"dataframe\">\n",
       "  <thead>\n",
       "    <tr style=\"text-align: right;\">\n",
       "      <th></th>\n",
       "      <th>age</th>\n",
       "      <th>sex</th>\n",
       "      <th>cp</th>\n",
       "      <th>trestbps</th>\n",
       "      <th>chol</th>\n",
       "      <th>fbs</th>\n",
       "      <th>restecg</th>\n",
       "      <th>thalachh</th>\n",
       "      <th>exang</th>\n",
       "      <th>oldpeak</th>\n",
       "      <th>slope</th>\n",
       "      <th>ca</th>\n",
       "      <th>thal</th>\n",
       "      <th>target</th>\n",
       "    </tr>\n",
       "  </thead>\n",
       "  <tbody>\n",
       "    <tr>\n",
       "      <th>count</th>\n",
       "      <td>1888.00</td>\n",
       "      <td>1888.00</td>\n",
       "      <td>1888.00</td>\n",
       "      <td>1888.00</td>\n",
       "      <td>1888.00</td>\n",
       "      <td>1888.00</td>\n",
       "      <td>1888.00</td>\n",
       "      <td>1888.00</td>\n",
       "      <td>1888.00</td>\n",
       "      <td>1888.00</td>\n",
       "      <td>1888.00</td>\n",
       "      <td>1888.00</td>\n",
       "      <td>1888.00</td>\n",
       "      <td>1888.00</td>\n",
       "    </tr>\n",
       "    <tr>\n",
       "      <th>mean</th>\n",
       "      <td>54.35</td>\n",
       "      <td>0.69</td>\n",
       "      <td>1.28</td>\n",
       "      <td>131.55</td>\n",
       "      <td>246.86</td>\n",
       "      <td>0.15</td>\n",
       "      <td>0.60</td>\n",
       "      <td>149.42</td>\n",
       "      <td>0.33</td>\n",
       "      <td>1.05</td>\n",
       "      <td>1.42</td>\n",
       "      <td>0.73</td>\n",
       "      <td>2.66</td>\n",
       "      <td>0.52</td>\n",
       "    </tr>\n",
       "    <tr>\n",
       "      <th>std</th>\n",
       "      <td>9.08</td>\n",
       "      <td>0.46</td>\n",
       "      <td>1.28</td>\n",
       "      <td>17.56</td>\n",
       "      <td>51.61</td>\n",
       "      <td>0.36</td>\n",
       "      <td>0.64</td>\n",
       "      <td>23.01</td>\n",
       "      <td>0.47</td>\n",
       "      <td>1.16</td>\n",
       "      <td>0.62</td>\n",
       "      <td>1.02</td>\n",
       "      <td>1.25</td>\n",
       "      <td>0.50</td>\n",
       "    </tr>\n",
       "    <tr>\n",
       "      <th>min</th>\n",
       "      <td>29.00</td>\n",
       "      <td>0.00</td>\n",
       "      <td>0.00</td>\n",
       "      <td>94.00</td>\n",
       "      <td>126.00</td>\n",
       "      <td>0.00</td>\n",
       "      <td>0.00</td>\n",
       "      <td>71.00</td>\n",
       "      <td>0.00</td>\n",
       "      <td>0.00</td>\n",
       "      <td>0.00</td>\n",
       "      <td>0.00</td>\n",
       "      <td>0.00</td>\n",
       "      <td>0.00</td>\n",
       "    </tr>\n",
       "    <tr>\n",
       "      <th>25%</th>\n",
       "      <td>47.75</td>\n",
       "      <td>0.00</td>\n",
       "      <td>0.00</td>\n",
       "      <td>120.00</td>\n",
       "      <td>211.00</td>\n",
       "      <td>0.00</td>\n",
       "      <td>0.00</td>\n",
       "      <td>133.00</td>\n",
       "      <td>0.00</td>\n",
       "      <td>0.00</td>\n",
       "      <td>1.00</td>\n",
       "      <td>0.00</td>\n",
       "      <td>2.00</td>\n",
       "      <td>0.00</td>\n",
       "    </tr>\n",
       "    <tr>\n",
       "      <th>50%</th>\n",
       "      <td>55.00</td>\n",
       "      <td>1.00</td>\n",
       "      <td>1.00</td>\n",
       "      <td>130.00</td>\n",
       "      <td>241.00</td>\n",
       "      <td>0.00</td>\n",
       "      <td>1.00</td>\n",
       "      <td>152.00</td>\n",
       "      <td>0.00</td>\n",
       "      <td>0.80</td>\n",
       "      <td>1.00</td>\n",
       "      <td>0.00</td>\n",
       "      <td>2.00</td>\n",
       "      <td>1.00</td>\n",
       "    </tr>\n",
       "    <tr>\n",
       "      <th>75%</th>\n",
       "      <td>61.00</td>\n",
       "      <td>1.00</td>\n",
       "      <td>2.00</td>\n",
       "      <td>140.00</td>\n",
       "      <td>276.00</td>\n",
       "      <td>0.00</td>\n",
       "      <td>1.00</td>\n",
       "      <td>166.00</td>\n",
       "      <td>1.00</td>\n",
       "      <td>1.60</td>\n",
       "      <td>2.00</td>\n",
       "      <td>1.00</td>\n",
       "      <td>3.00</td>\n",
       "      <td>1.00</td>\n",
       "    </tr>\n",
       "    <tr>\n",
       "      <th>max</th>\n",
       "      <td>77.00</td>\n",
       "      <td>1.00</td>\n",
       "      <td>4.00</td>\n",
       "      <td>200.00</td>\n",
       "      <td>564.00</td>\n",
       "      <td>1.00</td>\n",
       "      <td>2.00</td>\n",
       "      <td>202.00</td>\n",
       "      <td>1.00</td>\n",
       "      <td>6.20</td>\n",
       "      <td>3.00</td>\n",
       "      <td>4.00</td>\n",
       "      <td>7.00</td>\n",
       "      <td>1.00</td>\n",
       "    </tr>\n",
       "  </tbody>\n",
       "</table>\n",
       "</div>"
      ]
     },
     "execution_count": 5,
     "metadata": {},
     "output_type": "execute_result"
    }
   ],
   "execution_count": 5
  },
  {
   "cell_type": "markdown",
   "id": "4f42b3b2",
   "metadata": {},
   "source": [
    "\n",
    "# 3. Check for Missing Values\n",
    "This helps ous detect any columns with null (missing) values that may affect model training."
   ]
  },
  {
   "cell_type": "code",
   "id": "339a3837",
   "metadata": {
    "ExecuteTime": {
     "end_time": "2025-07-24T13:40:31.248044Z",
     "start_time": "2025-07-24T13:40:31.230361Z"
    }
   },
   "source": [
    "# Check missing values\n",
    "df.isnull().sum()\n"
   ],
   "outputs": [
    {
     "data": {
      "text/plain": [
       "age         0\n",
       "sex         0\n",
       "cp          0\n",
       "trestbps    0\n",
       "chol        0\n",
       "fbs         0\n",
       "restecg     0\n",
       "thalachh    0\n",
       "exang       0\n",
       "oldpeak     0\n",
       "slope       0\n",
       "ca          0\n",
       "thal        0\n",
       "target      0\n",
       "dtype: int64"
      ]
     },
     "execution_count": 6,
     "metadata": {},
     "output_type": "execute_result"
    }
   ],
   "execution_count": 6
  },
  {
   "cell_type": "markdown",
   "id": "5b8063df",
   "metadata": {},
   "source": [
    "\n",
    "# 4. Visualize Target Class Distribution\n",
    "Check how many patients have heart disease vs. those who don’t. This tells ous whether the dataset is balanced or unbalanced."
   ]
  },
  {
   "cell_type": "code",
   "id": "8d340fa9",
   "metadata": {
    "ExecuteTime": {
     "end_time": "2025-07-24T13:40:32.776111Z",
     "start_time": "2025-07-24T13:40:31.547011Z"
    }
   },
   "source": [
    "sns.countplot(x=\"target\", data=df)\n",
    "plt.title(\"Target Distribution\")\n",
    "plt.xlabel(\"0 = No Disease, 1 = Disease\")\n",
    "plt.ylabel(\"Count\")\n",
    "plt.show()\n"
   ],
   "outputs": [
    {
     "data": {
      "text/plain": [
       "<Figure size 640x480 with 1 Axes>"
      ],
      "image/png": "[encoded data removed]"
     },
     "metadata": {},
     "output_type": "display_data"
    }
   ],
   "execution_count": 7
  },
  {
   "cell_type": "markdown",
   "id": "35d3d891",
   "metadata": {},
   "source": [
    "# 5. Correlation Between Features\n",
    "This heatmap shows how strongly features are related to each other and to the target."
   ]
  },
  {
   "cell_type": "markdown",
   "id": "08148f92",
   "metadata": {},
   "source": [
    "\n",
    "## Correlation Matrix\n",
    "The correlation matrix below shows the pairwise correlation coefficients between all numerical features in the dataset. This helps identify how strongly two variables are related:\n",
    "\n",
    "+1 → perfect positive correlation (as one increases, so does the other)\n",
    "\n",
    "-1 → perfect negative correlation (as one increases, the other decreases)\n",
    "\n",
    "0 → no linear correlation\n",
    "\n",
    "Highly correlated features (positively or negatively) can impact model performance, especially for linear models. This plot helps us detect such relationships."
   ]
  },
  {
   "cell_type": "code",
   "id": "867b40d8",
   "metadata": {
    "ExecuteTime": {
     "end_time": "2025-07-24T13:40:34.499248Z",
     "start_time": "2025-07-24T13:40:33.717824Z"
    }
   },
   "source": [
    "plt.figure(figsize=(12, 8)) \n",
    "sns.heatmap(df.corr(), annot=True)\n",
    "plt.title(\"Correlation Between Features\")\n",
    "plt.show()"
   ],
   "outputs": [
    {
     "data": {
      "text/plain": [
       "<Figure size 1200x800 with 2 Axes>"
      ],
      "image/png": "[encoded data removed]"
     },
     "metadata": {},
     "output_type": "display_data"
    }
   ],
   "execution_count": 8
  },
  {
   "cell_type": "markdown",
   "id": "fb379275",
   "metadata": {},
   "source": [
    "## Building and Tuning the Heart Disease Prediction Model\n",
    "* In this step, we build a machine learning model to predict the presence of heart disease using a Random Forest Classifier. The workflow includes:\n",
    "\n",
    "\n",
    "* Importing essential libraries for data handling, preprocessing, and model building.\n",
    "\n",
    "\n",
    "* Preparing the data by separating features (X) and the target label (y), then splitting into training and testing sets using train_test_split.\n",
    "\n",
    "\n",
    "* Creating a pipeline that includes feature scaling (StandardScaler) and a random forest classifier to streamline preprocessing and modeling.\n",
    "\n",
    "\n",
    "* Defining a hyperparameter grid for RandomForestClassifier and using GridSearchCV with Stratified 5-Fold Cross-Validation to search for the best-performing combination of parameters.\n",
    "\n",
    "\n",
    "* Fitting the model using the training data and selecting the best model based on F1 score, which balances precision and recall — ideal for imbalanced classification problems.\n",
    "\n",
    "\n",
    "* Finally, the best model is saved using pickle so it can be reused later for predictions or deployment."
   ]
  },
  {
   "cell_type": "code",
   "id": "dda9557c",
   "metadata": {
    "ExecuteTime": {
     "end_time": "2025-07-24T13:41:31.948241Z",
     "start_time": "2025-07-24T13:40:34.632509Z"
    }
   },
   "source": [
    "# Step 1: Import Required Libraries\n",
    "\n",
    "import pandas as pd\n",
    "import numpy as np\n",
    "import pickle\n",
    "\n",
    "from sklearn.ensemble import RandomForestClassifier\n",
    "from sklearn.model_selection import GridSearchCV, train_test_split\n",
    "from sklearn.pipeline import make_pipeline\n",
    "from sklearn.preprocessing import StandardScaler\n",
    "from sklearn.model_selection import StratifiedKFold\n",
    "\n",
    "# Step 2: Set Seed for Reproducibility\n",
    "np.random.seed(44)\n",
    "\n",
    "# Step 3: Split Features and Target\n",
    "X = df.drop(\"target\", axis=1)\n",
    "y = df[\"target\"]\n",
    "\n",
    "# Step 4: Train-Test Split\n",
    "X_train, X_test, y_train, y_test = train_test_split(X, y, test_size=0.2, stratify=y)\n",
    "\n",
    "#  Step 5: Create a Pipeline\n",
    "pipeline = make_pipeline(\n",
    "    StandardScaler(),\n",
    "    RandomForestClassifier()\n",
    ")\n",
    "# Step 6: Define Hyperparameter Grid\n",
    "param_grid = {\n",
    "    'randomforestclassifier__n_estimators': [100,150,150],\n",
    "    'randomforestclassifier__max_depth': [8,12,16],\n",
    "    'randomforestclassifier__min_samples_split': [2, 4],\n",
    "    'randomforestclassifier__min_samples_leaf': [1, 2],\n",
    "    'randomforestclassifier__max_features': ['sqrt'],\n",
    "    'randomforestclassifier__bootstrap': [True]\n",
    "}\n",
    "\n",
    "\n",
    "\n",
    "\n",
    "#  Step 7: Perform Grid Search with Cross-Validation\n",
    "\n",
    "grid_search = GridSearchCV(\n",
    "    estimator=pipeline,\n",
    "    param_grid=param_grid,\n",
    "    cv=StratifiedKFold(n_splits=5, shuffle=True, random_state=44),\n",
    "    verbose=2,\n",
    "    n_jobs=-1,\n",
    "    scoring='f1'\n",
    ")\n",
    "\n",
    "\n",
    "# STEP 6: Fit the model\n",
    "grid_search.fit(X_train, y_train)\n",
    "\n",
    "# STEP 7: Best model\n",
    "best_model = grid_search.best_estimator_\n",
    "\n",
    "\n",
    "# STEP 8: Save model\n",
    "with open(\"heart_disease_model.pkl\", \"wb\") as f:\n",
    "    pickle.dump(best_model, f)\n"
   ],
   "outputs": [
    {
     "name": "stdout",
     "output_type": "stream",
     "text": [
      "Fitting 5 folds for each of 36 candidates, totalling 180 fits\n"
     ]
    }
   ],
   "execution_count": 9
  },
  {
   "cell_type": "markdown",
   "id": "0f3e9d28",
   "metadata": {},
   "source": [
    "## Evaluating the Model Performance\n",
    "\n",
    "After training and selecting the best Random Forest model, we now evaluate how well it performs on the test dataset. This includes several key metrics and visual tools:\n",
    "\n",
    "* Accuracy Score: Shows the overall percentage of correct predictions made by the model.\n",
    "\n",
    "\n",
    "* Confusion Matrix: A heatmap visualization that helps us understand how many samples were correctly or incorrectly classified into each category (e.g., true positives, false negatives).\n",
    "\n",
    "\n",
    "* Classification Report: Displays detailed metrics like precision, recall, F1-score, and support for both classes (No Disease and Disease). This helps assess how well the model handles class imbalances and how balanced its predictions are.\n",
    "\n",
    "\n",
    "These evaluation tools are crucial for interpreting the model's strengths and weaknesses and determining whether it’s reliable enough for real-world use."
   ]
  },
  {
   "cell_type": "markdown",
   "id": "1e55f2fb",
   "metadata": {},
   "source": [
    "#  Import Required Libraries"
   ]
  },
  {
   "cell_type": "code",
   "id": "7e221e82",
   "metadata": {
    "ExecuteTime": {
     "end_time": "2025-07-24T13:41:32.394851Z",
     "start_time": "2025-07-24T13:41:32.296023Z"
    }
   },
   "source": [
    "\n",
    "import matplotlib.pyplot as plt\n",
    "import seaborn as sns\n",
    "import pandas as pd\n",
    "from sklearn.metrics import accuracy_score, confusion_matrix, classification_report\n",
    "\n"
   ],
   "outputs": [],
   "execution_count": 10
  },
  {
   "cell_type": "markdown",
   "id": "b810476c",
   "metadata": {},
   "source": [
    "# Model Accuracy"
   ]
  },
  {
   "cell_type": "code",
   "id": "3ef2b816",
   "metadata": {
    "ExecuteTime": {
     "end_time": "2025-07-24T13:41:33.450993Z",
     "start_time": "2025-07-24T13:41:32.916207Z"
    }
   },
   "source": [
    "# Predict on test data\n",
    "y_preds = best_model.predict(X_test)\n",
    "\n",
    "# Accuracy Score\n",
    "accuracy = accuracy_score(y_test, y_preds)\n",
    "print(f\"Model Accuracy: {accuracy:.2%}\")\n"
   ],
   "outputs": [
    {
     "name": "stdout",
     "output_type": "stream",
     "text": [
      "Model Accuracy: 97.35%\n"
     ]
    }
   ],
   "execution_count": 11
  },
  {
   "cell_type": "markdown",
   "id": "cedbe0ba",
   "metadata": {},
   "source": [
    "# Confusion Matrix Visualization"
   ]
  },
  {
   "cell_type": "code",
   "id": "5351ccc9",
   "metadata": {
    "ExecuteTime": {
     "end_time": "2025-07-24T13:41:35.118847Z",
     "start_time": "2025-07-24T13:41:34.243591Z"
    }
   },
   "source": [
    "# Confusion Matrix\n",
    "cm = confusion_matrix(y_test, y_preds)\n",
    "\n",
    "# Plot Confusion Matrix\n",
    "plt.figure(figsize=(6, 4))\n",
    "sns.heatmap(cm, annot=True, fmt=\"d\", cmap=\"Blues\", \n",
    "            xticklabels=[\"No Disease\", \"Disease\"], \n",
    "            yticklabels=[\"No Disease\", \"Disease\"])\n",
    "\n",
    "plt.xlabel(\"Predicted Label\")\n",
    "plt.ylabel(\"Actual Label\")\n",
    "plt.title(\"Confusion Matrix\")\n",
    "plt.show()\n"
   ],
   "outputs": [
    {
     "data": {
      "text/plain": [
       "<Figure size 600x400 with 2 Axes>"
      ],
      "image/png": "[encoded data removed]"
     },
     "metadata": {},
     "output_type": "display_data"
    }
   ],
   "execution_count": 12
  },
  {
   "cell_type": "markdown",
   "id": "65106579",
   "metadata": {},
   "source": [
    "#  **Interpretation**:\n",
    "- Top-left = True Negatives (No disease correctly predicted)\n",
    "- Bottom-right = True Positives (Disease correctly predicted)\n",
    "- Top-right / Bottom-left = Incorrect predictions\n"
   ]
  },
  {
   "cell_type": "markdown",
   "id": "4f378199",
   "metadata": {},
   "source": [
    "#  Classification Report"
   ]
  },
  {
   "cell_type": "code",
   "id": "9b5cf2d8",
   "metadata": {
    "ExecuteTime": {
     "end_time": "2025-07-24T13:41:36.471843Z",
     "start_time": "2025-07-24T13:41:36.062443Z"
    }
   },
   "source": [
    "# Classification Report\n",
    "report = classification_report(y_test, y_preds, output_dict=True)\n",
    "report_df = pd.DataFrame(report).transpose()\n",
    "report_df.round(2)\n"
   ],
   "outputs": [
    {
     "data": {
      "text/plain": [
       "              precision  recall  f1-score  support\n",
       "0                  0.99    0.95      0.97   182.00\n",
       "1                  0.96    0.99      0.98   196.00\n",
       "accuracy           0.97    0.97      0.97     0.97\n",
       "macro avg          0.98    0.97      0.97   378.00\n",
       "weighted avg       0.97    0.97      0.97   378.00"
      ],
      "text/html": [
       "<div>\n",
       "<style scoped>\n",
       "    .dataframe tbody tr th:only-of-type {\n",
       "        vertical-align: middle;\n",
       "    }\n",
       "\n",
       "    .dataframe tbody tr th {\n",
       "        vertical-align: top;\n",
       "    }\n",
       "\n",
       "    .dataframe thead th {\n",
       "        text-align: right;\n",
       "    }\n",
       "</style>\n",
       "<table border=\"1\" class=\"dataframe\">\n",
       "  <thead>\n",
       "    <tr style=\"text-align: right;\">\n",
       "      <th></th>\n",
       "      <th>precision</th>\n",
       "      <th>recall</th>\n",
       "      <th>f1-score</th>\n",
       "      <th>support</th>\n",
       "    </tr>\n",
       "  </thead>\n",
       "  <tbody>\n",
       "    <tr>\n",
       "      <th>0</th>\n",
       "      <td>0.99</td>\n",
       "      <td>0.95</td>\n",
       "      <td>0.97</td>\n",
       "      <td>182.00</td>\n",
       "    </tr>\n",
       "    <tr>\n",
       "      <th>1</th>\n",
       "      <td>0.96</td>\n",
       "      <td>0.99</td>\n",
       "      <td>0.98</td>\n",
       "      <td>196.00</td>\n",
       "    </tr>\n",
       "    <tr>\n",
       "      <th>accuracy</th>\n",
       "      <td>0.97</td>\n",
       "      <td>0.97</td>\n",
       "      <td>0.97</td>\n",
       "      <td>0.97</td>\n",
       "    </tr>\n",
       "    <tr>\n",
       "      <th>macro avg</th>\n",
       "      <td>0.98</td>\n",
       "      <td>0.97</td>\n",
       "      <td>0.97</td>\n",
       "      <td>378.00</td>\n",
       "    </tr>\n",
       "    <tr>\n",
       "      <th>weighted avg</th>\n",
       "      <td>0.97</td>\n",
       "      <td>0.97</td>\n",
       "      <td>0.97</td>\n",
       "      <td>378.00</td>\n",
       "    </tr>\n",
       "  </tbody>\n",
       "</table>\n",
       "</div>"
      ]
     },
     "execution_count": 13,
     "metadata": {},
     "output_type": "execute_result"
    }
   ],
   "execution_count": 13
  },
  {
   "cell_type": "markdown",
   "id": "4ce9cb9e",
   "metadata": {},
   "source": [
    " **What Do These Metrics Mean?**\n",
    "\n",
    "- **Precision**: Out of all predicted positives, how many were actually positive?\n",
    "- **Recall**: Out of all actual positives, how many did we correctly identify?\n",
    "- **F1-Score**: Harmonic mean of precision and recall (balance between them)\n",
    "- **Support**: Number of actual instances for each class\n"
   ]
  },
  {
   "cell_type": "markdown",
   "id": "50fc5ddf",
   "metadata": {},
   "source": [
    "# Summary\n",
    "* The model achieved an accuracy of around 97% on the test set. (Note: Accuracy may slightly vary with each run due to randomness in data splitting and training.)\n",
    "\n",
    "* The confusion matrix visualizes how well the model distinguishes between patients with and without heart disease.\n",
    "\n",
    "* The classification report presents key metrics like precision, recall, and F1-score for each class, helping assess model performance more thoroughly."
   ]
  }
 ],
 "metadata": {
  "kernelspec": {
   "display_name": "Python 3 (ipykernel)",
   "language": "python",
   "name": "python3"
  },
  "language_info": {
   "codemirror_mode": {
    "name": "ipython",
    "version": 3
   },
   "file_extension": ".py",
   "mimetype": "text/x-python",
   "name": "python",
   "nbconvert_exporter": "python",
   "pygments_lexer": "ipython3",
   "version": "3.10.18"
  }
 },
 "nbformat": 4,
 "nbformat_minor": 5
}
